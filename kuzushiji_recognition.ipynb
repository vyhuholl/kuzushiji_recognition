{
  "nbformat": 4,
  "nbformat_minor": 0,
  "metadata": {
    "colab": {
      "name": "kuzushiji_recognition.ipynb",
      "version": "0.3.2",
      "provenance": [],
      "collapsed_sections": []
    },
    "kernelspec": {
      "name": "python3",
      "display_name": "Python 3"
    },
    "accelerator": "GPU"
  },
  "cells": [
    {
      "cell_type": "code",
      "metadata": {
        "id": "Qg6eKDnNve6F",
        "colab_type": "code",
        "colab": {}
      },
      "source": [
        "!pip install -U -q kaggle\n",
        "!mkdir -p ~/.kaggle"
      ],
      "execution_count": 0,
      "outputs": []
    },
    {
      "cell_type": "code",
      "metadata": {
        "id": "Lw5L0QiJv3Kw",
        "colab_type": "code",
        "colab": {}
      },
      "source": [
        "from google.colab import files\n",
        "from IPython.display import clear_output\n",
        "files.upload()\n",
        "clear_output()"
      ],
      "execution_count": 0,
      "outputs": []
    },
    {
      "cell_type": "code",
      "metadata": {
        "id": "c9F4VAG_JOxo",
        "colab_type": "code",
        "colab": {}
      },
      "source": [
        "!pip install pycodestyle flake8 pycodestyle_magic\n",
        "%load_ext pycodestyle_magic\n",
        "clear_output()"
      ],
      "execution_count": 0,
      "outputs": []
    },
    {
      "cell_type": "code",
      "metadata": {
        "id": "4jTbIJDsv700",
        "colab_type": "code",
        "colab": {}
      },
      "source": [
        "!chmod 600 kaggle.json"
      ],
      "execution_count": 0,
      "outputs": []
    },
    {
      "cell_type": "code",
      "metadata": {
        "id": "eYhzONcBwJn0",
        "colab_type": "code",
        "colab": {}
      },
      "source": [
        "!cp kaggle.json ~/.kaggle/"
      ],
      "execution_count": 0,
      "outputs": []
    },
    {
      "cell_type": "code",
      "metadata": {
        "id": "vtIplGxXwM0o",
        "colab_type": "code",
        "colab": {}
      },
      "source": [
        "!kaggle competitions download -c kuzushiji-recognition\n",
        "clear_output()"
      ],
      "execution_count": 0,
      "outputs": []
    },
    {
      "cell_type": "code",
      "metadata": {
        "id": "kHwu6fA42iW4",
        "colab_type": "code",
        "colab": {}
      },
      "source": [
        "!mkdir train_images\n",
        "!mkdir test_images"
      ],
      "execution_count": 0,
      "outputs": []
    },
    {
      "cell_type": "code",
      "metadata": {
        "id": "boi2XihD2od2",
        "colab_type": "code",
        "colab": {}
      },
      "source": [
        "!unzip train_images.zip -d train_images\n",
        "!unzip test_images.zip -d test_images\n",
        "!unzip train.csv.zip\n",
        "!rm train_images.zip\n",
        "!rm test_images.zip\n",
        "!rm train.csv.zip\n",
        "clear_output()"
      ],
      "execution_count": 0,
      "outputs": []
    },
    {
      "cell_type": "markdown",
      "metadata": {
        "id": "MHrwMQZVxAG9",
        "colab_type": "text"
      },
      "source": [
        "#Data\n",
        "Source: https://www.kaggle.com/c/kuzushiji-recognition/ <br>\n",
        "Kuzushiji is an ancient Japanese cursive script. The goal is to locate and classify each kuzushiji character on each image in the test set. <br>\n",
        "Train set size: 3881 images. <br>\n",
        "Test set size: 4150 images. <br>\n",
        "**train.csv** contains labels for each kuzushiji character in the train set. Train.csv columns:\n",
        "*   **image_id** – ID code for the image.\n",
        "*   **labels** – string with labels for all kuzushiji characters on the image, separated by space. Each label is a space-separated series of values (Unicode char, X, Y, width and height) of the character.\n",
        "\n",
        "Predictions for the test set should have the following format:\n",
        "*   **image_id**\n",
        "*    **labels**, formatted like (Unicode char, X, Y). Width and height don't need to be predicted.\n",
        "\n",
        "Predictions will be evaluated on F1-score. In this version of the metric, a correct (i. e., true positive) prediction is made when the character is correct and X and Y coordinates are within the ground truth bounding box. The ground truth bounding boxes are defined in the format {Unicode char X Y Width Height}, so if the ground truth label is U+003F 1 1 10 10 then a prediction of U+003F 3 3 would pass. <br>\n",
        "Mapping between Japanese characters and corresponding Unicode IDs is stored in the file **unicode_translation.csv**. <br>\n",
        "Notes about the data:\n",
        "*   Some images don't contain kuzushiji characters.\n",
        "*   Kuzushiji text is written such that annotations are placed between the columns of the main text, usually in a slightly smaller font. Annotation characters should be ignored.\n",
        "*   You can occasionally see through especially thin paper and read characters from the opposite side of the page. Those characters should also be ignored.\n"
      ]
    },
    {
      "cell_type": "code",
      "metadata": {
        "id": "kqhHfBSNzFcH",
        "colab_type": "code",
        "colab": {}
      },
      "source": [
        "import pandas as pd\n",
        "from sklearn.model_selection import train_test_split"
      ],
      "execution_count": 0,
      "outputs": []
    },
    {
      "cell_type": "code",
      "metadata": {
        "id": "IJopIicj406_",
        "colab_type": "code",
        "colab": {}
      },
      "source": [
        "data = pd.read_csv(\"train.csv\")"
      ],
      "execution_count": 0,
      "outputs": []
    },
    {
      "cell_type": "code",
      "metadata": {
        "id": "TdDgFRbC5Dlw",
        "colab_type": "code",
        "colab": {
          "base_uri": "https://localhost:8080/",
          "height": 34
        },
        "outputId": "d372b82d-feb2-4b16-b371-2333c0423acc"
      },
      "source": [
        "data.shape"
      ],
      "execution_count": 15,
      "outputs": [
        {
          "output_type": "execute_result",
          "data": {
            "text/plain": [
              "(3881, 2)"
            ]
          },
          "metadata": {
            "tags": []
          },
          "execution_count": 15
        }
      ]
    },
    {
      "cell_type": "code",
      "metadata": {
        "id": "qjZJP3L95Gv5",
        "colab_type": "code",
        "colab": {
          "base_uri": "https://localhost:8080/",
          "height": 204
        },
        "outputId": "942199d0-8384-4b25-fe1b-5379c86b44e8"
      },
      "source": [
        "# labels for the train set\n",
        "data.head()"
      ],
      "execution_count": 16,
      "outputs": [
        {
          "output_type": "execute_result",
          "data": {
            "text/html": [
              "<div>\n",
              "<style scoped>\n",
              "    .dataframe tbody tr th:only-of-type {\n",
              "        vertical-align: middle;\n",
              "    }\n",
              "\n",
              "    .dataframe tbody tr th {\n",
              "        vertical-align: top;\n",
              "    }\n",
              "\n",
              "    .dataframe thead th {\n",
              "        text-align: right;\n",
              "    }\n",
              "</style>\n",
              "<table border=\"1\" class=\"dataframe\">\n",
              "  <thead>\n",
              "    <tr style=\"text-align: right;\">\n",
              "      <th></th>\n",
              "      <th>image_id</th>\n",
              "      <th>labels</th>\n",
              "    </tr>\n",
              "  </thead>\n",
              "  <tbody>\n",
              "    <tr>\n",
              "      <th>0</th>\n",
              "      <td>100241706_00004_2</td>\n",
              "      <td>U+306F 1231 3465 133 53 U+304C 275 1652 84 69 ...</td>\n",
              "    </tr>\n",
              "    <tr>\n",
              "      <th>1</th>\n",
              "      <td>100241706_00005_1</td>\n",
              "      <td>U+306F 1087 2018 103 65 U+304B 1456 1832 40 73...</td>\n",
              "    </tr>\n",
              "    <tr>\n",
              "      <th>2</th>\n",
              "      <td>100241706_00005_2</td>\n",
              "      <td>U+306F 572 1376 125 57 U+306E 1551 2080 69 68 ...</td>\n",
              "    </tr>\n",
              "    <tr>\n",
              "      <th>3</th>\n",
              "      <td>100241706_00006_1</td>\n",
              "      <td>U+3082 1455 3009 65 44 U+516B 1654 1528 141 75...</td>\n",
              "    </tr>\n",
              "    <tr>\n",
              "      <th>4</th>\n",
              "      <td>100241706_00007_2</td>\n",
              "      <td>U+309D 1201 2949 27 33 U+309D 1196 1539 27 36 ...</td>\n",
              "    </tr>\n",
              "  </tbody>\n",
              "</table>\n",
              "</div>"
            ],
            "text/plain": [
              "            image_id                                             labels\n",
              "0  100241706_00004_2  U+306F 1231 3465 133 53 U+304C 275 1652 84 69 ...\n",
              "1  100241706_00005_1  U+306F 1087 2018 103 65 U+304B 1456 1832 40 73...\n",
              "2  100241706_00005_2  U+306F 572 1376 125 57 U+306E 1551 2080 69 68 ...\n",
              "3  100241706_00006_1  U+3082 1455 3009 65 44 U+516B 1654 1528 141 75...\n",
              "4  100241706_00007_2  U+309D 1201 2949 27 33 U+309D 1196 1539 27 36 ..."
            ]
          },
          "metadata": {
            "tags": []
          },
          "execution_count": 16
        }
      ]
    },
    {
      "cell_type": "code",
      "metadata": {
        "id": "wz-kaj4g-kzh",
        "colab_type": "code",
        "colab": {}
      },
      "source": [
        "unicode_translation = pd.read_csv(\"unicode_translation.csv\")"
      ],
      "execution_count": 0,
      "outputs": []
    },
    {
      "cell_type": "code",
      "metadata": {
        "id": "2Qsg7k3r-woq",
        "colab_type": "code",
        "colab": {
          "base_uri": "https://localhost:8080/",
          "height": 359
        },
        "outputId": "81c14e0c-e754-4c15-99fd-98612b6e8f68"
      },
      "source": [
        "unicode_translation.head(n=10)"
      ],
      "execution_count": 23,
      "outputs": [
        {
          "output_type": "execute_result",
          "data": {
            "text/html": [
              "<div>\n",
              "<style scoped>\n",
              "    .dataframe tbody tr th:only-of-type {\n",
              "        vertical-align: middle;\n",
              "    }\n",
              "\n",
              "    .dataframe tbody tr th {\n",
              "        vertical-align: top;\n",
              "    }\n",
              "\n",
              "    .dataframe thead th {\n",
              "        text-align: right;\n",
              "    }\n",
              "</style>\n",
              "<table border=\"1\" class=\"dataframe\">\n",
              "  <thead>\n",
              "    <tr style=\"text-align: right;\">\n",
              "      <th></th>\n",
              "      <th>Unicode</th>\n",
              "      <th>char</th>\n",
              "    </tr>\n",
              "  </thead>\n",
              "  <tbody>\n",
              "    <tr>\n",
              "      <th>0</th>\n",
              "      <td>U+0031</td>\n",
              "      <td>1</td>\n",
              "    </tr>\n",
              "    <tr>\n",
              "      <th>1</th>\n",
              "      <td>U+0032</td>\n",
              "      <td>2</td>\n",
              "    </tr>\n",
              "    <tr>\n",
              "      <th>2</th>\n",
              "      <td>U+0034</td>\n",
              "      <td>4</td>\n",
              "    </tr>\n",
              "    <tr>\n",
              "      <th>3</th>\n",
              "      <td>U+0036</td>\n",
              "      <td>6</td>\n",
              "    </tr>\n",
              "    <tr>\n",
              "      <th>4</th>\n",
              "      <td>U+0039</td>\n",
              "      <td>9</td>\n",
              "    </tr>\n",
              "    <tr>\n",
              "      <th>5</th>\n",
              "      <td>U+003F</td>\n",
              "      <td>?</td>\n",
              "    </tr>\n",
              "    <tr>\n",
              "      <th>6</th>\n",
              "      <td>U+2000B</td>\n",
              "      <td>𠀋</td>\n",
              "    </tr>\n",
              "    <tr>\n",
              "      <th>7</th>\n",
              "      <td>U+20D45</td>\n",
              "      <td>𠵅</td>\n",
              "    </tr>\n",
              "    <tr>\n",
              "      <th>8</th>\n",
              "      <td>U+2123D</td>\n",
              "      <td>𡈽</td>\n",
              "    </tr>\n",
              "    <tr>\n",
              "      <th>9</th>\n",
              "      <td>U+22999</td>\n",
              "      <td>𢦙</td>\n",
              "    </tr>\n",
              "  </tbody>\n",
              "</table>\n",
              "</div>"
            ],
            "text/plain": [
              "   Unicode char\n",
              "0   U+0031    1\n",
              "1   U+0032    2\n",
              "2   U+0034    4\n",
              "3   U+0036    6\n",
              "4   U+0039    9\n",
              "5   U+003F    ?\n",
              "6  U+2000B    𠀋\n",
              "7  U+20D45    𠵅\n",
              "8  U+2123D    𡈽\n",
              "9  U+22999    𢦙"
            ]
          },
          "metadata": {
            "tags": []
          },
          "execution_count": 23
        }
      ]
    },
    {
      "cell_type": "code",
      "metadata": {
        "id": "E5cw5zWg_E17",
        "colab_type": "code",
        "colab": {}
      },
      "source": [
        "# store mapping in dictionary\n",
        "mapping = dict()\n",
        "for i in range(len(unicode_translation.index)):\n",
        "    mapping[unicode_translation[\"Unicode\"][i]] = unicode_translation[\"char\"][i]"
      ],
      "execution_count": 0,
      "outputs": []
    },
    {
      "cell_type": "code",
      "metadata": {
        "id": "y8_j-6J7GzcZ",
        "colab_type": "code",
        "colab": {}
      },
      "source": [
        "sample_submission = pd.read_csv(\"sample_submission.csv\")"
      ],
      "execution_count": 0,
      "outputs": []
    },
    {
      "cell_type": "code",
      "metadata": {
        "id": "NOwnnGfuHDQV",
        "colab_type": "code",
        "colab": {
          "base_uri": "https://localhost:8080/",
          "height": 204
        },
        "outputId": "b036057d-ae90-447d-c720-bac2771159b6"
      },
      "source": [
        "# a sample submission in the correct format\n",
        "sample_submission.head()"
      ],
      "execution_count": 27,
      "outputs": [
        {
          "output_type": "execute_result",
          "data": {
            "text/html": [
              "<div>\n",
              "<style scoped>\n",
              "    .dataframe tbody tr th:only-of-type {\n",
              "        vertical-align: middle;\n",
              "    }\n",
              "\n",
              "    .dataframe tbody tr th {\n",
              "        vertical-align: top;\n",
              "    }\n",
              "\n",
              "    .dataframe thead th {\n",
              "        text-align: right;\n",
              "    }\n",
              "</style>\n",
              "<table border=\"1\" class=\"dataframe\">\n",
              "  <thead>\n",
              "    <tr style=\"text-align: right;\">\n",
              "      <th></th>\n",
              "      <th>image_id</th>\n",
              "      <th>labels</th>\n",
              "    </tr>\n",
              "  </thead>\n",
              "  <tbody>\n",
              "    <tr>\n",
              "      <th>0</th>\n",
              "      <td>test_00145af3</td>\n",
              "      <td>U+003F 1 1 U+FF2F 2 2</td>\n",
              "    </tr>\n",
              "    <tr>\n",
              "      <th>1</th>\n",
              "      <td>test_001c37e2</td>\n",
              "      <td>U+003F 1 1 U+FF2F 2 2</td>\n",
              "    </tr>\n",
              "    <tr>\n",
              "      <th>2</th>\n",
              "      <td>test_003aa33a</td>\n",
              "      <td>U+003F 1 1 U+FF2F 2 2</td>\n",
              "    </tr>\n",
              "    <tr>\n",
              "      <th>3</th>\n",
              "      <td>test_00665e33</td>\n",
              "      <td>U+003F 1 1 U+FF2F 2 2</td>\n",
              "    </tr>\n",
              "    <tr>\n",
              "      <th>4</th>\n",
              "      <td>test_006964dc</td>\n",
              "      <td>U+003F 1 1 U+FF2F 2 2</td>\n",
              "    </tr>\n",
              "  </tbody>\n",
              "</table>\n",
              "</div>"
            ],
            "text/plain": [
              "        image_id                 labels\n",
              "0  test_00145af3  U+003F 1 1 U+FF2F 2 2\n",
              "1  test_001c37e2  U+003F 1 1 U+FF2F 2 2\n",
              "2  test_003aa33a  U+003F 1 1 U+FF2F 2 2\n",
              "3  test_00665e33  U+003F 1 1 U+FF2F 2 2\n",
              "4  test_006964dc  U+003F 1 1 U+FF2F 2 2"
            ]
          },
          "metadata": {
            "tags": []
          },
          "execution_count": 27
        }
      ]
    },
    {
      "cell_type": "code",
      "metadata": {
        "id": "EiAxrd8bHgnF",
        "colab_type": "code",
        "colab": {
          "base_uri": "https://localhost:8080/",
          "height": 34
        },
        "outputId": "483d4925-62c2-4d40-9655-c69e7aa7134c"
      },
      "source": [
        "# removing rows contains NaN\n",
        "data = data.dropna()\n",
        "data.shape"
      ],
      "execution_count": 28,
      "outputs": [
        {
          "output_type": "execute_result",
          "data": {
            "text/plain": [
              "(3605, 2)"
            ]
          },
          "metadata": {
            "tags": []
          },
          "execution_count": 28
        }
      ]
    },
    {
      "cell_type": "code",
      "metadata": {
        "id": "C3gaogxLIe5X",
        "colab_type": "code",
        "colab": {}
      },
      "source": [
        "# for evaluation of different models, let's split\n",
        "# our data into 0.75 and 0.25 train and test sets\n",
        "X_train, X_test, y_train, y_test = train_test_split(data[\"image_id\"], data[\"labels\"])"
      ],
      "execution_count": 0,
      "outputs": []
    },
    {
      "cell_type": "code",
      "metadata": {
        "id": "qB9fV5uKwoki",
        "colab_type": "code",
        "colab": {}
      },
      "source": [
        ""
      ],
      "execution_count": 0,
      "outputs": []
    }
  ]
}